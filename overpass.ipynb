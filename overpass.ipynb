{
 "cells": [
  {
   "cell_type": "code",
   "execution_count": 69,
   "metadata": {},
   "outputs": [],
   "source": [
    "import requests\n",
    "import urllib\n",
    "import math\n",
    "import numpy as np\n",
    "from PIL import Image\n",
    "# 150 meters\n",
    "SEARCH_RADIUS = 2500\n",
    "IMAGE_SIZE = 64\n",
    "ROAD_COLOURS = {\n",
    "    \"primary\": (255, 0, 0),\n",
    "    \"secondary\": (0, 255, 0),\n",
    "    \"tertiary\": (0, 0, 255),\n",
    "}"
   ]
  },
  {
   "cell_type": "code",
   "execution_count": 91,
   "metadata": {},
   "outputs": [],
   "source": [
    "geocode = (43.698858, -79.436116)\n",
    "\n",
    "query = urllib.parse.quote(f\"\"\"\n",
    "[out:json][timeout:25];\n",
    "nwr(around:{SEARCH_RADIUS}, {geocode[0]}, {geocode[1]})[highway~\"^(primary|secondary|tertiary|motorway|motorway_link|residential)$\"];\n",
    "out geom;\n",
    "\"\"\")\n",
    "result = requests.get(f\"https://overpass-api.de/api/interpreter?data={query}\").json()"
   ]
  },
  {
   "cell_type": "code",
   "execution_count": 92,
   "metadata": {},
   "outputs": [],
   "source": [
    "roads = {\"primary\":[], \"secondary\":[], \"tertiary\":[]}\n",
    "\n",
    "for element in result[\"elements\"]:\n",
    "    if (element[\"tags\"][\"highway\"] in \"motorway motorway_link primary\"):\n",
    "        roads[\"primary\"].append(element)\n",
    "    elif (element[\"tags\"][\"highway\"] in \"secondary tertiary\"):\n",
    "        roads[\"secondary\"].append(element)\n",
    "    elif (element[\"tags\"][\"highway\"] in \"residential\"):\n",
    "        roads[\"tertiary\"].append(element)"
   ]
  },
  {
   "cell_type": "code",
   "execution_count": 93,
   "metadata": {},
   "outputs": [],
   "source": [
    "def geo_distance(coord1, coord2):\n",
    "    distance_lat = math.radians(coord2[0] - coord1[0])\n",
    "    distance_lon = math.radians(coord2[1] - coord1[1])\n",
    "    angle = (\n",
    "        math.sin(distance_lat/2) * math.sin(distance_lat/2) +\n",
    "        math.cos(math.radians(coord1[0])) * math.cos(math.radians(coord2[0])) *\n",
    "        math.sin(distance_lon/2) * math.sin(distance_lon/2)\n",
    "    )\n",
    "    curve = 2 * math.atan2(math.sqrt(angle), math.sqrt(1-angle))\n",
    "    return  6378 * curve * 1000\n",
    "\n",
    "# moves a geocode by offset (n meters, m meters)\n",
    "def move_geocode(geocode, offset):\n",
    "    return (geocode[0] + offset[0]/111111, geocode[1] + offset[1]/(math.cos(math.radians(geocode[0]))*111111))\n",
    "\n",
    "# get the offset in meters of the two geocodes\n",
    "def geocode_offset(origin, geocode):\n",
    "    return ((geocode[0]-origin[0])*111111, (geocode[1]-origin[1])*111111*math.cos(math.radians(geocode[0])))"
   ]
  },
  {
   "cell_type": "code",
   "execution_count": 94,
   "metadata": {},
   "outputs": [],
   "source": [
    "# draw roads to image\n",
    "def dist(p1, p2):\n",
    "    return math.sqrt((p2[0] - p1[0])**2 + (p2[1] - p1[1])**2)\n",
    "def floor_point(p1):\n",
    "    return (math.floor(p1[0]), math.floor(p1[1]))\n",
    "def draw_point(arr, p1, color):\n",
    "    if p1[0] >= 0 and p1[1] >= 0 and p1[0] < len(arr) and p1[1] < len(arr[0]):\n",
    "        for i in range(len(color)):\n",
    "            arr[p1[0]][p1[1]][i] += color[i]\n",
    "def draw_line(arr, points, color):\n",
    "    cur_point = points.pop(0)\n",
    "    next_point = points.pop(0)\n",
    "    last_draw = (-1, -1)\n",
    "    draw_point(arr, floor_point(cur_point), color)\n",
    "    while True:\n",
    "        if dist(last_draw, floor_point(next_point)) <= 1:\n",
    "            if len(points) == 0:\n",
    "                break\n",
    "            cur_point = next_point\n",
    "            next_point = points.pop(0)\n",
    "            continue\n",
    "        cur_draw = floor_point(cur_point)\n",
    "        if dist(cur_draw, last_draw) != 0:\n",
    "            draw_point(arr, cur_draw, color)\n",
    "            last_draw = cur_draw\n",
    "        diff_vec = (next_point[0]-cur_point[0], next_point[1]-cur_point[1])\n",
    "        mag = math.sqrt(diff_vec[0]**2  + diff_vec[1]**2)\n",
    "        diff_vec = (diff_vec[0]/mag, diff_vec[1]/mag)\n",
    "        cur_point = (cur_point[0] + diff_vec[0], cur_point[1] + diff_vec[1])\n",
    "\n",
    "im_arr = np.zeros((IMAGE_SIZE, IMAGE_SIZE, 3))\n",
    "\n",
    "for roadtype in roads.keys():\n",
    "    for road in roads[roadtype]:\n",
    "        points = []\n",
    "        for point in road[\"geometry\"]:\n",
    "            offset = geocode_offset(geocode, (point[\"lat\"], point[\"lon\"]))\n",
    "            points.append((offset[0]*IMAGE_SIZE/SEARCH_RADIUS/1.5+IMAGE_SIZE/2, offset[1]*IMAGE_SIZE/SEARCH_RADIUS/1.5+IMAGE_SIZE/2))\n",
    "        draw_line(im_arr, points, ROAD_COLOURS[roadtype])\n",
    "\n",
    "# draw_line(im_arr, [(0,0),(10,40),(64,64),(20,50)], (0,0,255))\n",
    "\n",
    "im_arr = im_arr.astype('uint8')\n",
    "im = Image.fromarray(im_arr, mode=\"RGB\")\n",
    "im.save(\"image.png\")"
   ]
  }
 ],
 "metadata": {
  "kernelspec": {
   "display_name": "Python 3",
   "language": "python",
   "name": "python3"
  },
  "language_info": {
   "codemirror_mode": {
    "name": "ipython",
    "version": 3
   },
   "file_extension": ".py",
   "mimetype": "text/x-python",
   "name": "python",
   "nbconvert_exporter": "python",
   "pygments_lexer": "ipython3",
   "version": "3.10.12"
  }
 },
 "nbformat": 4,
 "nbformat_minor": 2
}
